{
 "cells": [
  {
   "cell_type": "code",
   "execution_count": 1,
   "id": "fc7602d2",
   "metadata": {},
   "outputs": [],
   "source": [
    "import pandas as pd\n",
    "import numpy as np\n",
    "import matplotlib.pyplot as plt\n",
    "import seaborn as sns \n",
    "import warnings\n",
    "warnings.filterwarnings(\"ignore\")"
   ]
  },
  {
   "cell_type": "markdown",
   "id": "cdc3362a",
   "metadata": {},
   "source": [
    "# Pre-processing of data"
   ]
  },
  {
   "cell_type": "code",
   "execution_count": 2,
   "id": "a1df3af2",
   "metadata": {},
   "outputs": [
    {
     "data": {
      "text/html": [
       "<div>\n",
       "<style scoped>\n",
       "    .dataframe tbody tr th:only-of-type {\n",
       "        vertical-align: middle;\n",
       "    }\n",
       "\n",
       "    .dataframe tbody tr th {\n",
       "        vertical-align: top;\n",
       "    }\n",
       "\n",
       "    .dataframe thead th {\n",
       "        text-align: right;\n",
       "    }\n",
       "</style>\n",
       "<table border=\"1\" class=\"dataframe\">\n",
       "  <thead>\n",
       "    <tr style=\"text-align: right;\">\n",
       "      <th></th>\n",
       "      <th>Species</th>\n",
       "      <th>Weight</th>\n",
       "      <th>Length1</th>\n",
       "      <th>Length2</th>\n",
       "      <th>Length3</th>\n",
       "      <th>Height</th>\n",
       "      <th>Width</th>\n",
       "    </tr>\n",
       "  </thead>\n",
       "  <tbody>\n",
       "    <tr>\n",
       "      <th>0</th>\n",
       "      <td>Bream</td>\n",
       "      <td>242.0</td>\n",
       "      <td>23.2</td>\n",
       "      <td>25.4</td>\n",
       "      <td>30.0</td>\n",
       "      <td>11.5200</td>\n",
       "      <td>4.0200</td>\n",
       "    </tr>\n",
       "    <tr>\n",
       "      <th>1</th>\n",
       "      <td>Bream</td>\n",
       "      <td>290.0</td>\n",
       "      <td>24.0</td>\n",
       "      <td>26.3</td>\n",
       "      <td>31.2</td>\n",
       "      <td>12.4800</td>\n",
       "      <td>4.3056</td>\n",
       "    </tr>\n",
       "    <tr>\n",
       "      <th>2</th>\n",
       "      <td>Bream</td>\n",
       "      <td>340.0</td>\n",
       "      <td>23.9</td>\n",
       "      <td>26.5</td>\n",
       "      <td>31.1</td>\n",
       "      <td>12.3778</td>\n",
       "      <td>4.6961</td>\n",
       "    </tr>\n",
       "    <tr>\n",
       "      <th>3</th>\n",
       "      <td>Bream</td>\n",
       "      <td>363.0</td>\n",
       "      <td>26.3</td>\n",
       "      <td>29.0</td>\n",
       "      <td>33.5</td>\n",
       "      <td>12.7300</td>\n",
       "      <td>4.4555</td>\n",
       "    </tr>\n",
       "    <tr>\n",
       "      <th>4</th>\n",
       "      <td>Bream</td>\n",
       "      <td>430.0</td>\n",
       "      <td>26.5</td>\n",
       "      <td>29.0</td>\n",
       "      <td>34.0</td>\n",
       "      <td>12.4440</td>\n",
       "      <td>5.1340</td>\n",
       "    </tr>\n",
       "  </tbody>\n",
       "</table>\n",
       "</div>"
      ],
      "text/plain": [
       "  Species  Weight  Length1  Length2  Length3   Height   Width\n",
       "0   Bream   242.0     23.2     25.4     30.0  11.5200  4.0200\n",
       "1   Bream   290.0     24.0     26.3     31.2  12.4800  4.3056\n",
       "2   Bream   340.0     23.9     26.5     31.1  12.3778  4.6961\n",
       "3   Bream   363.0     26.3     29.0     33.5  12.7300  4.4555\n",
       "4   Bream   430.0     26.5     29.0     34.0  12.4440  5.1340"
      ]
     },
     "execution_count": 2,
     "metadata": {},
     "output_type": "execute_result"
    }
   ],
   "source": [
    "#read data into DataFrame\n",
    "fish_data = pd.read_csv(r'C:\\Users\\smit\\Downloads\\Linear regression\\Fish_dataset.csv',header=0)\n",
    "fish_data.head()"
   ]
  },
  {
   "cell_type": "code",
   "execution_count": 3,
   "id": "275481a5",
   "metadata": {},
   "outputs": [
    {
     "data": {
      "text/plain": [
       "Species    0\n",
       "Weight     0\n",
       "Length1    0\n",
       "Length2    0\n",
       "Length3    0\n",
       "Height     0\n",
       "Width      0\n",
       "dtype: int64"
      ]
     },
     "execution_count": 3,
     "metadata": {},
     "output_type": "execute_result"
    }
   ],
   "source": [
    "fish_data.isnull().sum()"
   ]
  },
  {
   "cell_type": "code",
   "execution_count": 4,
   "id": "5150e9ca",
   "metadata": {},
   "outputs": [
    {
     "name": "stdout",
     "output_type": "stream",
     "text": [
      "Species     object\n",
      "Weight     float64\n",
      "Length1    float64\n",
      "Length2    float64\n",
      "Length3    float64\n",
      "Height     float64\n",
      "Width      float64\n",
      "dtype: object\n",
      "(159, 7)\n",
      "            Weight     Length1     Length2     Length3      Height       Width\n",
      "count   159.000000  159.000000  159.000000  159.000000  159.000000  159.000000\n",
      "mean    398.326415   26.247170   28.415723   31.227044    8.970994    4.417486\n",
      "std     357.978317    9.996441   10.716328   11.610246    4.286208    1.685804\n",
      "min       0.000000    7.500000    8.400000    8.800000    1.728400    1.047600\n",
      "25%     120.000000   19.050000   21.000000   23.150000    5.944800    3.385650\n",
      "50%     273.000000   25.200000   27.300000   29.400000    7.786000    4.248500\n",
      "75%     650.000000   32.700000   35.500000   39.650000   12.365900    5.584500\n",
      "max    1650.000000   59.000000   63.400000   68.000000   18.957000    8.142000\n"
     ]
    }
   ],
   "source": [
    "print(fish_data.dtypes)\n",
    "print(fish_data.shape)\n",
    "print(fish_data.describe())"
   ]
  },
  {
   "cell_type": "code",
   "execution_count": 5,
   "id": "67c8ff43",
   "metadata": {},
   "outputs": [
    {
     "data": {
      "text/plain": [
       "Index(['Species', 'Weight', 'Length1', 'Length2', 'Length3', 'Height',\n",
       "       'Width'],\n",
       "      dtype='object')"
      ]
     },
     "execution_count": 5,
     "metadata": {},
     "output_type": "execute_result"
    }
   ],
   "source": [
    "fish_data.columns"
   ]
  },
  {
   "cell_type": "code",
   "execution_count": 6,
   "id": "c6fca59d",
   "metadata": {},
   "outputs": [
    {
     "name": "stdout",
     "output_type": "stream",
     "text": [
      "{'Species': array(['Bream', 'Roach', 'Whitefish', 'Parkki', 'Perch', 'Pike', 'Smelt'],\n",
      "      dtype=object)}\n",
      "{'Weight': array([ 242. ,  290. ,  340. ,  363. ,  430. ,  450. ,  500. ,  390. ,\n",
      "        475. ,  600. ,  700. ,  610. ,  650. ,  575. ,  685. ,  620. ,\n",
      "        680. ,  725. ,  720. ,  714. ,  850. , 1000. ,  920. ,  955. ,\n",
      "        925. ,  975. ,  950. ,   40. ,   69. ,   78. ,   87. ,  120. ,\n",
      "          0. ,  110. ,  150. ,  145. ,  160. ,  140. ,  169. ,  161. ,\n",
      "        200. ,  180. ,  272. ,  270. ,  306. ,  540. ,  800. ,   55. ,\n",
      "         60. ,   90. ,  170. ,  273. ,  300. ,    5.9,   32. ,   51.5,\n",
      "         70. ,  100. ,   80. ,   85. ,  115. ,  125. ,  130. ,  135. ,\n",
      "        225. ,  188. ,  197. ,  218. ,  260. ,  265. ,  250. ,  320. ,\n",
      "        514. ,  556. ,  840. ,  690. ,  900. ,  820. , 1015. , 1100. ,\n",
      "        345. ,  456. ,  510. ,  567. ,  770. , 1250. , 1600. , 1550. ,\n",
      "       1650. ,    6.7,    7.5,    7. ,    9.7,    9.8,    8.7,   10. ,\n",
      "          9.9,   12.2,   13.4,   19.7,   19.9])}\n",
      "{'Length1': array([23.2, 24. , 23.9, 26.3, 26.5, 26.8, 27.6, 28.5, 28.4, 28.7, 29.1,\n",
      "       29.5, 29.4, 30.4, 30.9, 31. , 31.3, 31.4, 31.5, 31.8, 31.9, 32. ,\n",
      "       32.7, 32.8, 33.5, 35. , 36.2, 37.4, 38. , 12.9, 16.5, 17.5, 18.2,\n",
      "       18.6, 19. , 19.1, 19.4, 20.4, 20.5, 21. , 21.1, 22. , 22.1, 23.6,\n",
      "       25. , 24.1, 25.6, 33.7, 37.3, 13.5, 14.3, 16.3, 18.4, 19.8, 21.2,\n",
      "       23. ,  7.5, 12.5, 13.8, 15. , 15.7, 16.2, 16.8, 17.2, 17.8, 19.3,\n",
      "       20. , 20.7, 21.5, 22.6, 23.5, 25.2, 25.4, 25.9, 26.9, 27.8, 30.5,\n",
      "       32.5, 34. , 34.5, 34.6, 36.5, 36.6, 36.9, 37. , 37.1, 39. , 39.8,\n",
      "       40.1, 40.2, 41.1, 30. , 31.7, 34.8, 35.5, 36. , 40. , 42. , 43.2,\n",
      "       44.8, 48.3, 52. , 56. , 59. ,  9.3, 10. , 10.1, 10.4, 10.7, 10.8,\n",
      "       11.3, 11.4, 11.5, 11.7, 12.1, 13.2])}\n",
      "{'Length2': array([25.4, 26.3, 26.5, 29. , 29.7, 30. , 30.7, 31. , 31.5, 32. , 33. ,\n",
      "       33.5, 34. , 34.5, 35. , 36. , 37. , 38.5, 39.5, 41. , 14.1, 18.2,\n",
      "       18.8, 19.8, 20. , 20.5, 20.8, 21. , 22. , 22.5, 24. , 23.4, 23.5,\n",
      "       25.2, 26. , 27. , 31.7, 28. , 36.4, 40. , 14.7, 15.5, 17.7, 19. ,\n",
      "       20.7, 21.5, 23. , 25. ,  8.4, 13.7, 15. , 16.2, 17.4, 18. , 18.7,\n",
      "       19.6, 21.3, 22.7, 24.6, 25.6, 27.3, 27.5, 28.7, 32.8, 36.5, 39. ,\n",
      "       42. , 43. , 43.5, 44. , 32.3, 37.3, 38. , 42.5, 45. , 46. , 48. ,\n",
      "       51.7, 56. , 60. , 63.4,  9.8, 10.5, 10.6, 11. , 11.2, 11.3, 11.8,\n",
      "       12. , 12.2, 12.4, 13. , 14.3])}\n",
      "{'Length3': array([30. , 31.2, 31.1, 33.5, 34. , 34.7, 34.5, 35. , 35.1, 36.2, 36.4,\n",
      "       37.3, 37.2, 38.3, 38.5, 38.6, 38.7, 39.5, 39.2, 39.7, 40.6, 40.5,\n",
      "       40.9, 41.5, 41.6, 42.6, 44.1, 44. , 45.3, 45.9, 46.5, 16.2, 20.3,\n",
      "       21.2, 22.2, 22.8, 23.1, 23.7, 24.7, 24.3, 25.3, 25. , 27.2, 26.7,\n",
      "       26.8, 27.9, 29.2, 30.6, 28.7, 29.3, 30.8, 39.6, 43.5, 16.5, 17.4,\n",
      "       19.8, 21.3, 22.4, 23.2, 24.1, 25.8, 28. , 29. ,  8.8, 14.7, 16. ,\n",
      "       17.2, 18.5, 19.2, 19.4, 20.2, 20.8, 21. , 22.5, 23.5, 24. , 24.2,\n",
      "       24.5, 25.5, 26.2, 26.5, 27. , 28.9, 29.4, 30.1, 31.6, 36.5, 39. ,\n",
      "       39.4, 39.3, 41.4, 41.3, 42.3, 42.5, 42.4, 44.6, 45.2, 45.5, 46. ,\n",
      "       46.6, 34.8, 37.8, 38.8, 39.8, 41. , 45.8, 48. , 48.7, 51.2, 55.1,\n",
      "       59.7, 64. , 68. , 10.8, 11.6, 12. , 12.4, 12.6, 13.1, 13.2, 13.4,\n",
      "       13.5, 13.8, 15.2])}\n",
      "{'Height': array([11.52  , 12.48  , 12.3778, 12.73  , 12.444 , 13.6024, 14.1795,\n",
      "       12.67  , 14.0049, 14.2266, 14.2628, 14.3714, 13.7592, 13.9129,\n",
      "       14.9544, 15.438 , 14.8604, 14.938 , 15.633 , 14.4738, 15.1285,\n",
      "       15.9936, 15.5227, 15.4686, 16.2405, 16.36  , 16.3618, 16.517 ,\n",
      "       16.8896, 18.957 , 18.0369, 18.084 , 18.7542, 18.6354, 17.6235,\n",
      "        4.1472,  5.2983,  5.5756,  5.6166,  6.216 ,  6.4752,  6.1677,\n",
      "        6.1146,  5.8045,  6.6339,  7.0334,  6.55  ,  6.4   ,  7.5344,\n",
      "        6.9153,  7.3968,  7.0866,  8.8768,  8.568 ,  9.485 ,  8.3804,\n",
      "        8.1454,  8.778 , 10.744 , 11.7612, 12.354 ,  6.8475,  6.5772,\n",
      "        7.4052,  8.3922,  8.8928,  8.5376,  9.396 ,  9.7364, 10.3458,\n",
      "       11.088 , 11.368 ,  2.112 ,  3.528 ,  3.824 ,  4.5924,  4.588 ,\n",
      "        5.2224,  5.1992,  5.6358,  5.1376,  5.082 ,  5.6925,  5.9175,\n",
      "        6.384 ,  6.11  ,  5.64  ,  5.875 ,  5.5225,  5.856 ,  6.792 ,\n",
      "        5.9532,  5.2185,  6.275 ,  7.293 ,  6.375 ,  6.7334,  6.4395,\n",
      "        6.561 ,  7.168 ,  8.323 ,  7.1672,  7.0516,  7.2828,  7.8204,\n",
      "        7.5852,  7.6156, 10.03  , 10.2565, 11.4884, 10.881 , 10.6091,\n",
      "       10.835 , 10.5717, 11.1366, 12.4313, 11.9286, 11.73  , 12.3808,\n",
      "       11.135 , 12.8002, 11.9328, 12.5125, 12.604 , 12.4888,  5.568 ,\n",
      "        5.7078,  5.9364,  6.2884,  7.29  ,  6.396 ,  7.28  ,  6.825 ,\n",
      "        7.786 ,  6.96  ,  7.792 ,  7.68  ,  8.9262, 10.6863,  9.6   ,\n",
      "       10.812 ,  1.7388,  1.972 ,  1.7284,  2.196 ,  2.0832,  1.9782,\n",
      "        2.2139,  2.2044,  2.0904,  2.43  ,  2.277 ,  2.8728,  2.9322])}\n",
      "{'Width': array([4.02  , 4.3056, 4.6961, 4.4555, 5.134 , 4.9274, 5.2785, 4.69  ,\n",
      "       4.8438, 4.9594, 5.1042, 4.8146, 4.368 , 5.0728, 5.1708, 5.58  ,\n",
      "       5.2854, 5.1975, 5.1338, 5.7276, 5.5695, 5.3704, 5.2801, 6.1306,\n",
      "       5.589 , 6.0532, 6.09  , 5.8515, 6.1984, 6.603 , 6.3063, 6.292 ,\n",
      "       6.7497, 6.7473, 6.3705, 2.268 , 2.8217, 2.9044, 3.1746, 3.5742,\n",
      "       3.3516, 3.3957, 3.2943, 3.7544, 3.5478, 3.8203, 3.325 , 3.8   ,\n",
      "       3.8352, 3.6312, 4.1272, 3.906 , 4.4968, 4.7736, 5.355 , 4.2476,\n",
      "       4.2485, 4.6816, 6.562 , 6.5736, 6.525 , 2.3265, 2.3142, 2.673 ,\n",
      "       2.9181, 3.2928, 3.2944, 3.4104, 3.1571, 3.6636, 4.144 , 4.234 ,\n",
      "       1.408 , 1.9992, 2.432 , 2.6316, 2.9415, 3.3216, 3.1234, 3.0502,\n",
      "       3.0368, 2.772 , 3.555 , 3.3075, 3.6675, 3.534 , 3.4075, 3.525 ,\n",
      "       3.995 , 3.624 , 3.63  , 3.626 , 3.725 , 3.723 , 3.825 , 4.1658,\n",
      "       3.6835, 4.239 , 5.1373, 4.335 , 4.5662, 4.2042, 4.6354, 4.7716,\n",
      "       6.018 , 6.3875, 7.7957, 6.864 , 6.7408, 6.2646, 6.3666, 7.4934,\n",
      "       6.003 , 7.3514, 7.1064, 7.225 , 7.4624, 6.63  , 6.8684, 7.2772,\n",
      "       7.4165, 8.142 , 7.5958, 3.3756, 4.158 , 4.3844, 4.0198, 4.5765,\n",
      "       3.977 , 4.3225, 4.459 , 5.1296, 4.896 , 4.87  , 5.376 , 6.1712,\n",
      "       6.9849, 6.144 , 7.48  , 1.0476, 1.16  , 1.1484, 1.38  , 1.2772,\n",
      "       1.2852, 1.2838, 1.1659, 1.3936, 1.269 , 1.2558, 2.0672, 1.8792])}\n"
     ]
    }
   ],
   "source": [
    "for i in fish_data.columns:\n",
    "    print({i:fish_data[i].unique()})"
   ]
  },
  {
   "cell_type": "markdown",
   "id": "69a49a47",
   "metadata": {},
   "source": [
    "Q1: Barplot Showing count of Species"
   ]
  },
  {
   "cell_type": "code",
   "execution_count": 7,
   "id": "4ec863f3",
   "metadata": {},
   "outputs": [
    {
     "name": "stdout",
     "output_type": "stream",
     "text": [
      "Perch        56\n",
      "Bream        35\n",
      "Roach        20\n",
      "Pike         17\n",
      "Smelt        14\n",
      "Parkki       11\n",
      "Whitefish     6\n",
      "Name: Species, dtype: int64\n"
     ]
    }
   ],
   "source": [
    "#count of the species\n",
    "\n",
    "species_count=fish_data['Species'].value_counts()\n",
    "print(species_count)"
   ]
  },
  {
   "cell_type": "code",
   "execution_count": 8,
   "id": "1d10e6f5",
   "metadata": {},
   "outputs": [
    {
     "data": {
      "text/plain": [
       "(array([0, 1, 2, 3, 4, 5, 6]),\n",
       " [Text(0, 0, 'Bream'),\n",
       "  Text(1, 0, 'Roach'),\n",
       "  Text(2, 0, 'Whitefish'),\n",
       "  Text(3, 0, 'Parkki'),\n",
       "  Text(4, 0, 'Perch'),\n",
       "  Text(5, 0, 'Pike'),\n",
       "  Text(6, 0, 'Smelt')])"
      ]
     },
     "execution_count": 8,
     "metadata": {},
     "output_type": "execute_result"
    },
    {
     "data": {
      "image/png": "[encoded data removed]",
      "text/plain": [
       "<Figure size 432x288 with 1 Axes>"
      ]
     },
     "metadata": {
      "needs_background": "light"
     },
     "output_type": "display_data"
    }
   ],
   "source": [
    "#countplot are useful to visualize the frequency distribution of a single discrete/categorical variables\n",
    "\n",
    "sns.countplot(x='Species',data=fish_data,palette=\"Set1\")\n",
    "\n",
    "#Rotate x-labels\n",
    "plt.xticks(rotation=45)"
   ]
  },
  {
   "cell_type": "code",
   "execution_count": 9,
   "id": "6a68d4d3",
   "metadata": {},
   "outputs": [
    {
     "name": "stdout",
     "output_type": "stream",
     "text": [
      "     Species  Weight  Length1  Length2  Length3   Height   Width\n",
      "0          0   242.0     23.2     25.4     30.0  11.5200  4.0200\n",
      "1          0   290.0     24.0     26.3     31.2  12.4800  4.3056\n",
      "2          0   340.0     23.9     26.5     31.1  12.3778  4.6961\n",
      "3          0   363.0     26.3     29.0     33.5  12.7300  4.4555\n",
      "4          0   430.0     26.5     29.0     34.0  12.4440  5.1340\n",
      "..       ...     ...      ...      ...      ...      ...     ...\n",
      "154        6    12.2     11.5     12.2     13.4   2.0904  1.3936\n",
      "155        6    13.4     11.7     12.4     13.5   2.4300  1.2690\n",
      "156        6    12.2     12.1     13.0     13.8   2.2770  1.2558\n",
      "157        6    19.7     13.2     14.3     15.2   2.8728  2.0672\n",
      "158        6    19.9     13.8     15.0     16.2   2.9322  1.8792\n",
      "\n",
      "[159 rows x 7 columns]\n"
     ]
    }
   ],
   "source": [
    "fish_data['Species']=fish_data.Species.map({'Bream':0, 'Roach':1, 'Whitefish':2, 'Parkki':3, 'Perch':4, 'Pike':5, 'Smelt':6})\n",
    "print(fish_data)"
   ]
  },
  {
   "cell_type": "markdown",
   "id": "5bd32667",
   "metadata": {},
   "source": [
    "Q2: Identifying Outliers & Removing them"
   ]
  },
  {
   "cell_type": "code",
   "execution_count": 10,
   "id": "bd8c2eff",
   "metadata": {},
   "outputs": [
    {
     "data": {
      "image/png": "[encoded data removed]",
      "text/plain": [
       "<Figure size 432x288 with 1 Axes>"
      ]
     },
     "metadata": {
      "needs_background": "light"
     },
     "output_type": "display_data"
    },
    {
     "data": {
      "image/png": "[encoded data removed]",
      "text/plain": [
       "<Figure size 432x288 with 1 Axes>"
      ]
     },
     "metadata": {
      "needs_background": "light"
     },
     "output_type": "display_data"
    },
    {
     "data": {
      "image/png": "[encoded data removed]",
      "text/plain": [
       "<Figure size 432x288 with 1 Axes>"
      ]
     },
     "metadata": {
      "needs_background": "light"
     },
     "output_type": "display_data"
    },
    {
     "data": {
      "image/png": "[encoded data removed]",
      "text/plain": [
       "<Figure size 432x288 with 1 Axes>"
      ]
     },
     "metadata": {
      "needs_background": "light"
     },
     "output_type": "display_data"
    },
    {
     "data": {
      "image/png": "[encoded data removed]",
      "text/plain": [
       "<Figure size 432x288 with 1 Axes>"
      ]
     },
     "metadata": {
      "needs_background": "light"
     },
     "output_type": "display_data"
    },
    {
     "data": {
      "image/png": "[encoded data removed]",
      "text/plain": [
       "<Figure size 432x288 with 1 Axes>"
      ]
     },
     "metadata": {
      "needs_background": "light"
     },
     "output_type": "display_data"
    },
    {
     "data": {
      "image/png": "[encoded data removed]",
      "text/plain": [
       "<Figure size 432x288 with 1 Axes>"
      ]
     },
     "metadata": {
      "needs_background": "light"
     },
     "output_type": "display_data"
    }
   ],
   "source": [
    "#Asuumption 1: There should be no outliers in the data. Check using boxplot\n",
    "\n",
    "for i in fish_data.columns:\n",
    "    fish_data.boxplot(column=i)\n",
    "    plt.show()"
   ]
  },
  {
   "cell_type": "code",
   "execution_count": 11,
   "id": "fa5ac236",
   "metadata": {},
   "outputs": [],
   "source": [
    "#Outliers are dectected in Weight, Length1, Length2, Length3\n",
    "#Outliers of Weight\n",
    "O_weight=fish_data['Weight']\n",
    "O_weight_Q1=O_weight.quantile(0.25)\n",
    "O_weight_Q3=O_weight.quantile(0.75)\n",
    "O_weight_IQR=O_weight_Q3-O_weight_Q1\n",
    "O_weight_lowerend=O_weight_Q1-(1.5 * O_weight_IQR)\n",
    "O_weight_upperend=O_weight_Q3+(1.5 * O_weight_IQR)"
   ]
  },
  {
   "cell_type": "code",
   "execution_count": 12,
   "id": "8f0884bc",
   "metadata": {},
   "outputs": [
    {
     "name": "stdout",
     "output_type": "stream",
     "text": [
      "142    1600.0\n",
      "143    1550.0\n",
      "144    1650.0\n",
      "Name: Weight, dtype: float64\n"
     ]
    }
   ],
   "source": [
    "O_weight_outliers = O_weight[(O_weight < O_weight_lowerend) | (O_weight > O_weight_upperend)]\n",
    "print(O_weight_outliers)"
   ]
  },
  {
   "cell_type": "code",
   "execution_count": 13,
   "id": "53e51974",
   "metadata": {},
   "outputs": [],
   "source": [
    "#outliers of length1\n",
    "O_length1=fish_data['Length1']\n",
    "O_length1_Q1=O_length1.quantile(0.25)\n",
    "O_length1_Q3=O_length1.quantile(0.75)\n",
    "O_length1_IQR=O_length1_Q3-O_length1_Q1\n",
    "O_length1_lowerend=O_length1_Q1-(1.5 * O_length1_IQR)\n",
    "O_length1_upperend=O_length1_Q3+(1.5 * O_length1_IQR)"
   ]
  },
  {
   "cell_type": "code",
   "execution_count": 14,
   "id": "40a9412d",
   "metadata": {},
   "outputs": [
    {
     "name": "stdout",
     "output_type": "stream",
     "text": [
      "142    56.0\n",
      "143    56.0\n",
      "144    59.0\n",
      "Name: Length1, dtype: float64\n"
     ]
    }
   ],
   "source": [
    "O_length1_outliers = O_length1[(O_length1 < O_length1_lowerend) | (O_length1 > O_length1_upperend)]\n",
    "print(O_length1_outliers)"
   ]
  },
  {
   "cell_type": "code",
   "execution_count": 15,
   "id": "e183db76",
   "metadata": {},
   "outputs": [],
   "source": [
    "#outliers of length2\n",
    "O_length2=fish_data['Length2']\n",
    "O_length2_Q1=O_length2.quantile(0.25)\n",
    "O_length2_Q3=O_length2.quantile(0.75)\n",
    "O_length2_IQR=O_length2_Q3-O_length2_Q1\n",
    "O_length2_lowerend=O_length2_Q1-(1.5 * O_length2_IQR)\n",
    "O_length2_upperend=O_length2_Q3+(1.5 * O_length2_IQR)"
   ]
  },
  {
   "cell_type": "code",
   "execution_count": 16,
   "id": "474e5ae4",
   "metadata": {},
   "outputs": [
    {
     "name": "stdout",
     "output_type": "stream",
     "text": [
      "142    60.0\n",
      "143    60.0\n",
      "144    63.4\n",
      "Name: Length2, dtype: float64\n"
     ]
    }
   ],
   "source": [
    "O_length2_outliers = O_length2[(O_length2 < O_length2_lowerend) | (O_length2 > O_length2_upperend)]\n",
    "print(O_length2_outliers)"
   ]
  },
  {
   "cell_type": "code",
   "execution_count": 17,
   "id": "49de2af4",
   "metadata": {},
   "outputs": [],
   "source": [
    "#outliers of length3\n",
    "O_length3=fish_data['Length3']\n",
    "O_length3_Q1=O_length3.quantile(0.25)\n",
    "O_length3_Q3=O_length3.quantile(0.75)\n",
    "O_length3_IQR=O_length3_Q3-O_length3_Q1\n",
    "O_length3_lowerend=O_length3_Q1-(1.5 * O_length3_IQR)\n",
    "O_length3_upperend=O_length3_Q3+(1.5 * O_length3_IQR)"
   ]
  },
  {
   "cell_type": "code",
   "execution_count": 18,
   "id": "399c46bf",
   "metadata": {},
   "outputs": [
    {
     "name": "stdout",
     "output_type": "stream",
     "text": [
      "144    68.0\n",
      "Name: Length3, dtype: float64\n"
     ]
    }
   ],
   "source": [
    "O_length3_outliers = O_length3[(O_length3 < O_length3_lowerend) | (O_length3 > O_length3_upperend)]\n",
    "print(O_length3_outliers)"
   ]
  },
  {
   "cell_type": "code",
   "execution_count": 20,
   "id": "871fb49f",
   "metadata": {},
   "outputs": [
    {
     "data": {
      "text/html": [
       "<div>\n",
       "<style scoped>\n",
       "    .dataframe tbody tr th:only-of-type {\n",
       "        vertical-align: middle;\n",
       "    }\n",
       "\n",
       "    .dataframe tbody tr th {\n",
       "        vertical-align: top;\n",
       "    }\n",
       "\n",
       "    .dataframe thead th {\n",
       "        text-align: right;\n",
       "    }\n",
       "</style>\n",
       "<table border=\"1\" class=\"dataframe\">\n",
       "  <thead>\n",
       "    <tr style=\"text-align: right;\">\n",
       "      <th></th>\n",
       "      <th>Species</th>\n",
       "      <th>Weight</th>\n",
       "      <th>Length1</th>\n",
       "      <th>Length2</th>\n",
       "      <th>Length3</th>\n",
       "      <th>Height</th>\n",
       "      <th>Width</th>\n",
       "    </tr>\n",
       "  </thead>\n",
       "  <tbody>\n",
       "    <tr>\n",
       "      <th>142</th>\n",
       "      <td>5</td>\n",
       "      <td>1600.0</td>\n",
       "      <td>56.0</td>\n",
       "      <td>60.0</td>\n",
       "      <td>64.0</td>\n",
       "      <td>9.600</td>\n",
       "      <td>6.144</td>\n",
       "    </tr>\n",
       "    <tr>\n",
       "      <th>143</th>\n",
       "      <td>5</td>\n",
       "      <td>1550.0</td>\n",
       "      <td>56.0</td>\n",
       "      <td>60.0</td>\n",
       "      <td>64.0</td>\n",
       "      <td>9.600</td>\n",
       "      <td>6.144</td>\n",
       "    </tr>\n",
       "    <tr>\n",
       "      <th>144</th>\n",
       "      <td>5</td>\n",
       "      <td>1650.0</td>\n",
       "      <td>59.0</td>\n",
       "      <td>63.4</td>\n",
       "      <td>68.0</td>\n",
       "      <td>10.812</td>\n",
       "      <td>7.480</td>\n",
       "    </tr>\n",
       "  </tbody>\n",
       "</table>\n",
       "</div>"
      ],
      "text/plain": [
       "     Species  Weight  Length1  Length2  Length3  Height  Width\n",
       "142        5  1600.0     56.0     60.0     64.0   9.600  6.144\n",
       "143        5  1550.0     56.0     60.0     64.0   9.600  6.144\n",
       "144        5  1650.0     59.0     63.4     68.0  10.812  7.480"
      ]
     },
     "execution_count": 20,
     "metadata": {},
     "output_type": "execute_result"
    }
   ],
   "source": [
    "#Outliers of the Dataset are\n",
    "\n",
    "fish_data[142:145]"
   ]
  },
  {
   "cell_type": "code",
   "execution_count": 21,
   "id": "5198a77c",
   "metadata": {},
   "outputs": [],
   "source": [
    "fish_data = fish_data.drop([142,143,144])"
   ]
  },
  {
   "cell_type": "code",
   "execution_count": 22,
   "id": "dd32474c",
   "metadata": {},
   "outputs": [
    {
     "data": {
      "text/html": [
       "<div>\n",
       "<style scoped>\n",
       "    .dataframe tbody tr th:only-of-type {\n",
       "        vertical-align: middle;\n",
       "    }\n",
       "\n",
       "    .dataframe tbody tr th {\n",
       "        vertical-align: top;\n",
       "    }\n",
       "\n",
       "    .dataframe thead th {\n",
       "        text-align: right;\n",
       "    }\n",
       "</style>\n",
       "<table border=\"1\" class=\"dataframe\">\n",
       "  <thead>\n",
       "    <tr style=\"text-align: right;\">\n",
       "      <th></th>\n",
       "      <th>Species</th>\n",
       "      <th>Weight</th>\n",
       "      <th>Length1</th>\n",
       "      <th>Length2</th>\n",
       "      <th>Length3</th>\n",
       "      <th>Height</th>\n",
       "      <th>Width</th>\n",
       "    </tr>\n",
       "  </thead>\n",
       "  <tbody>\n",
       "    <tr>\n",
       "      <th>count</th>\n",
       "      <td>156.000000</td>\n",
       "      <td>156.000000</td>\n",
       "      <td>156.000000</td>\n",
       "      <td>156.000000</td>\n",
       "      <td>156.000000</td>\n",
       "      <td>156.000000</td>\n",
       "      <td>156.000000</td>\n",
       "    </tr>\n",
       "    <tr>\n",
       "      <th>mean</th>\n",
       "      <td>2.839744</td>\n",
       "      <td>375.217308</td>\n",
       "      <td>25.655769</td>\n",
       "      <td>27.786538</td>\n",
       "      <td>30.571154</td>\n",
       "      <td>8.951128</td>\n",
       "      <td>4.375719</td>\n",
       "    </tr>\n",
       "    <tr>\n",
       "      <th>std</th>\n",
       "      <td>2.024039</td>\n",
       "      <td>319.546978</td>\n",
       "      <td>9.119630</td>\n",
       "      <td>9.792651</td>\n",
       "      <td>10.695359</td>\n",
       "      <td>4.324325</td>\n",
       "      <td>1.672188</td>\n",
       "    </tr>\n",
       "    <tr>\n",
       "      <th>min</th>\n",
       "      <td>0.000000</td>\n",
       "      <td>0.000000</td>\n",
       "      <td>7.500000</td>\n",
       "      <td>8.400000</td>\n",
       "      <td>8.800000</td>\n",
       "      <td>1.728400</td>\n",
       "      <td>1.047600</td>\n",
       "    </tr>\n",
       "    <tr>\n",
       "      <th>25%</th>\n",
       "      <td>1.000000</td>\n",
       "      <td>120.000000</td>\n",
       "      <td>19.000000</td>\n",
       "      <td>21.000000</td>\n",
       "      <td>23.025000</td>\n",
       "      <td>5.931675</td>\n",
       "      <td>3.369600</td>\n",
       "    </tr>\n",
       "    <tr>\n",
       "      <th>50%</th>\n",
       "      <td>4.000000</td>\n",
       "      <td>271.000000</td>\n",
       "      <td>25.000000</td>\n",
       "      <td>26.750000</td>\n",
       "      <td>29.250000</td>\n",
       "      <td>7.647800</td>\n",
       "      <td>4.243300</td>\n",
       "    </tr>\n",
       "    <tr>\n",
       "      <th>75%</th>\n",
       "      <td>4.000000</td>\n",
       "      <td>612.500000</td>\n",
       "      <td>32.125000</td>\n",
       "      <td>35.000000</td>\n",
       "      <td>39.425000</td>\n",
       "      <td>12.378550</td>\n",
       "      <td>5.424375</td>\n",
       "    </tr>\n",
       "    <tr>\n",
       "      <th>max</th>\n",
       "      <td>6.000000</td>\n",
       "      <td>1250.000000</td>\n",
       "      <td>52.000000</td>\n",
       "      <td>56.000000</td>\n",
       "      <td>59.700000</td>\n",
       "      <td>18.957000</td>\n",
       "      <td>8.142000</td>\n",
       "    </tr>\n",
       "  </tbody>\n",
       "</table>\n",
       "</div>"
      ],
      "text/plain": [
       "          Species       Weight     Length1     Length2     Length3  \\\n",
       "count  156.000000   156.000000  156.000000  156.000000  156.000000   \n",
       "mean     2.839744   375.217308   25.655769   27.786538   30.571154   \n",
       "std      2.024039   319.546978    9.119630    9.792651   10.695359   \n",
       "min      0.000000     0.000000    7.500000    8.400000    8.800000   \n",
       "25%      1.000000   120.000000   19.000000   21.000000   23.025000   \n",
       "50%      4.000000   271.000000   25.000000   26.750000   29.250000   \n",
       "75%      4.000000   612.500000   32.125000   35.000000   39.425000   \n",
       "max      6.000000  1250.000000   52.000000   56.000000   59.700000   \n",
       "\n",
       "           Height       Width  \n",
       "count  156.000000  156.000000  \n",
       "mean     8.951128    4.375719  \n",
       "std      4.324325    1.672188  \n",
       "min      1.728400    1.047600  \n",
       "25%      5.931675    3.369600  \n",
       "50%      7.647800    4.243300  \n",
       "75%     12.378550    5.424375  \n",
       "max     18.957000    8.142000  "
      ]
     },
     "execution_count": 22,
     "metadata": {},
     "output_type": "execute_result"
    }
   ],
   "source": [
    "fish_data.describe()"
   ]
  },
  {
   "cell_type": "code",
   "execution_count": 23,
   "id": "44239a79",
   "metadata": {},
   "outputs": [
    {
     "data": {
      "text/plain": [
       "<seaborn.axisgrid.PairGrid at 0x1aac60e2850>"
      ]
     },
     "execution_count": 23,
     "metadata": {},
     "output_type": "execute_result"
    },
    {
     "data": {
      "image/png": "[encoded data removed]",
      "text/plain": [
       "<Figure size 1080x180 with 6 Axes>"
      ]
     },
     "metadata": {
      "needs_background": "light"
     },
     "output_type": "display_data"
    }
   ],
   "source": [
    "#Assumption 2:Assumption of Linearity:Every ind var should have a linear relatioship with the dep var.\n",
    "\n",
    "sns.pairplot(fish_data,x_vars=['Species', 'Length1', 'Length2', 'Length3', 'Height', 'Width'],\n",
    "            y_vars=\"Weight\",kind='reg')"
   ]
  },
  {
   "cell_type": "code",
   "execution_count": 24,
   "id": "6a501869",
   "metadata": {},
   "outputs": [],
   "source": [
    "#Create X and Y\n",
    "X =fish_data[['Species',  'Length1', 'Length2', 'Length3', 'Height',\n",
    "       'Width']]\n",
    "Y = fish_data['Weight']"
   ]
  },
  {
   "cell_type": "code",
   "execution_count": 25,
   "id": "fd278dff",
   "metadata": {},
   "outputs": [
    {
     "data": {
      "text/plain": [
       "(156, 6)"
      ]
     },
     "execution_count": 25,
     "metadata": {},
     "output_type": "execute_result"
    }
   ],
   "source": [
    "X.shape"
   ]
  },
  {
   "cell_type": "code",
   "execution_count": 26,
   "id": "cee470c4",
   "metadata": {},
   "outputs": [
    {
     "data": {
      "text/plain": [
       "(156,)"
      ]
     },
     "execution_count": 26,
     "metadata": {},
     "output_type": "execute_result"
    }
   ],
   "source": [
    "Y.shape"
   ]
  },
  {
   "cell_type": "code",
   "execution_count": 28,
   "id": "c3980b01",
   "metadata": {},
   "outputs": [
    {
     "data": {
      "text/plain": [
       "<AxesSubplot:xlabel='Weight', ylabel='Density'>"
      ]
     },
     "execution_count": 28,
     "metadata": {},
     "output_type": "execute_result"
    },
    {
     "data": {
      "image/png": "[encoded data removed]",
      "text/plain": [
       "<Figure size 432x288 with 1 Axes>"
      ]
     },
     "metadata": {
      "needs_background": "light"
     },
     "output_type": "display_data"
    }
   ],
   "source": [
    "#Assumption of Normality:The dependent variable should follow an approximate normal distribution\n",
    "sns.distplot(Y,hist=True)"
   ]
  },
  {
   "cell_type": "code",
   "execution_count": 29,
   "id": "a960639a",
   "metadata": {},
   "outputs": [],
   "source": [
    "#Log transformation\n",
    "import numpy as np\n",
    "Y_log = np.log(Y)"
   ]
  },
  {
   "cell_type": "code",
   "execution_count": 30,
   "id": "69294de0",
   "metadata": {},
   "outputs": [],
   "source": [
    "Y_log = Y_log.replace([np.inf, -np.inf, -0], 0)"
   ]
  },
  {
   "cell_type": "code",
   "execution_count": 31,
   "id": "36e7c42d",
   "metadata": {},
   "outputs": [
    {
     "data": {
      "text/plain": [
       "<AxesSubplot:xlabel='Weight', ylabel='Density'>"
      ]
     },
     "execution_count": 31,
     "metadata": {},
     "output_type": "execute_result"
    },
    {
     "data": {
      "image/png": "[encoded data removed]",
      "text/plain": [
       "<Figure size 432x288 with 1 Axes>"
      ]
     },
     "metadata": {
      "needs_background": "light"
     },
     "output_type": "display_data"
    }
   ],
   "source": [
    "sns.distplot(Y_log,hist=True)\n",
    "#When infinity values are converted into values the values & normalization is implemented on the \n",
    "#right skewed data is converted into left skewed which is creating more error"
   ]
  },
  {
   "cell_type": "code",
   "execution_count": 32,
   "id": "7bd4a142",
   "metadata": {},
   "outputs": [],
   "source": [
    "Y = Y_log"
   ]
  },
  {
   "cell_type": "code",
   "execution_count": 33,
   "id": "dac71b32",
   "metadata": {},
   "outputs": [
    {
     "data": {
      "text/plain": [
       "array([[<AxesSubplot:title={'center':'Species'}>,\n",
       "        <AxesSubplot:title={'center':'Length1'}>],\n",
       "       [<AxesSubplot:title={'center':'Length2'}>,\n",
       "        <AxesSubplot:title={'center':'Length3'}>],\n",
       "       [<AxesSubplot:title={'center':'Height'}>,\n",
       "        <AxesSubplot:title={'center':'Width'}>]], dtype=object)"
      ]
     },
     "execution_count": 33,
     "metadata": {},
     "output_type": "execute_result"
    },
    {
     "data": {
      "image/png": "[encoded data removed]",
      "text/plain": [
       "<Figure size 432x288 with 6 Axes>"
      ]
     },
     "metadata": {
      "needs_background": "light"
     },
     "output_type": "display_data"
    }
   ],
   "source": [
    "#Its not a assumptions just a good practice\n",
    "X.hist(bins=10)"
   ]
  },
  {
   "cell_type": "code",
   "execution_count": 34,
   "id": "f8526eb9",
   "metadata": {},
   "outputs": [
    {
     "name": "stdout",
     "output_type": "stream",
     "text": [
      "Species   -0.202223\n",
      "Length1    0.228738\n",
      "Length2    0.178621\n",
      "Length3    0.055049\n",
      "Height     0.403843\n",
      "Width      0.026325\n",
      "dtype: float64\n",
      "Series([], dtype: float64)\n"
     ]
    }
   ],
   "source": [
    "from scipy.stats import skew\n",
    "#finding the skewness in each variable\n",
    "fish_data_num_skew = X.apply(lambda i: skew(i.dropna()))  #apply functions helps to apply the logic on each variable\n",
    "#subsetting the variables that are highly skewed\n",
    "fish_data_num_skewed = fish_data_num_skew[(fish_data_num_skew > .75) | (fish_data_num_skew < -.75)]\n",
    "\n",
    "print(fish_data_num_skew)\n",
    "print(fish_data_num_skewed)\n",
    "import numpy as np\n",
    "# apply log + 1 transformation for all numeric features with skewness over .75\n",
    "X[fish_data_num_skewed.index] = np.log1p(X[fish_data_num_skewed.index]) "
   ]
  },
  {
   "cell_type": "code",
   "execution_count": 35,
   "id": "3a9ebeb3",
   "metadata": {},
   "outputs": [
    {
     "name": "stdout",
     "output_type": "stream",
     "text": [
      "          Species   Length1   Length2   Length3    Height     Width\n",
      "Species  1.000000 -0.182836 -0.201268 -0.297943 -0.709917 -0.351144\n",
      "Length1 -0.182836  1.000000  0.999418  0.990612  0.676326  0.889166\n",
      "Length2 -0.201268  0.999418  1.000000  0.993049  0.691954  0.895584\n",
      "Length3 -0.297943  0.990612  0.993049  1.000000  0.756019  0.897053\n",
      "Height  -0.709917  0.676326  0.691954  0.756019  1.000000  0.800542\n",
      "Width   -0.351144  0.889166  0.895584  0.897053  0.800542  1.000000\n"
     ]
    }
   ],
   "source": [
    "#Assumption of no multicollinearity: There should be no multicollinearity between the independent variables\n",
    "\n",
    "corr_df=X.corr(method='pearson')\n",
    "print(corr_df)"
   ]
  },
  {
   "cell_type": "code",
   "execution_count": 36,
   "id": "091bc633",
   "metadata": {},
   "outputs": [
    {
     "data": {
      "text/plain": [
       "<AxesSubplot:>"
      ]
     },
     "execution_count": 36,
     "metadata": {},
     "output_type": "execute_result"
    },
    {
     "data": {
      "image/png": "[encoded data removed]",
      "text/plain": [
       "<Figure size 432x288 with 2 Axes>"
      ]
     },
     "metadata": {
      "needs_background": "light"
     },
     "output_type": "display_data"
    }
   ],
   "source": [
    "sns.heatmap(corr_df,vmax=1.0,vmin=-1.0,annot=True)"
   ]
  },
  {
   "cell_type": "code",
   "execution_count": 37,
   "id": "ca03c7a1",
   "metadata": {},
   "outputs": [
    {
     "data": {
      "text/html": [
       "<div>\n",
       "<style scoped>\n",
       "    .dataframe tbody tr th:only-of-type {\n",
       "        vertical-align: middle;\n",
       "    }\n",
       "\n",
       "    .dataframe tbody tr th {\n",
       "        vertical-align: top;\n",
       "    }\n",
       "\n",
       "    .dataframe thead th {\n",
       "        text-align: right;\n",
       "    }\n",
       "</style>\n",
       "<table border=\"1\" class=\"dataframe\">\n",
       "  <thead>\n",
       "    <tr style=\"text-align: right;\">\n",
       "      <th></th>\n",
       "      <th>features</th>\n",
       "      <th>VIF Factor</th>\n",
       "    </tr>\n",
       "  </thead>\n",
       "  <tbody>\n",
       "    <tr>\n",
       "      <th>0</th>\n",
       "      <td>Species</td>\n",
       "      <td>3.99</td>\n",
       "    </tr>\n",
       "    <tr>\n",
       "      <th>1</th>\n",
       "      <td>Length1</td>\n",
       "      <td>11994.28</td>\n",
       "    </tr>\n",
       "    <tr>\n",
       "      <th>2</th>\n",
       "      <td>Length2</td>\n",
       "      <td>16350.45</td>\n",
       "    </tr>\n",
       "    <tr>\n",
       "      <th>3</th>\n",
       "      <td>Length3</td>\n",
       "      <td>3379.60</td>\n",
       "    </tr>\n",
       "    <tr>\n",
       "      <th>4</th>\n",
       "      <td>Height</td>\n",
       "      <td>77.70</td>\n",
       "    </tr>\n",
       "    <tr>\n",
       "      <th>5</th>\n",
       "      <td>Width</td>\n",
       "      <td>97.43</td>\n",
       "    </tr>\n",
       "  </tbody>\n",
       "</table>\n",
       "</div>"
      ],
      "text/plain": [
       "  features  VIF Factor\n",
       "0  Species        3.99\n",
       "1  Length1    11994.28\n",
       "2  Length2    16350.45\n",
       "3  Length3     3379.60\n",
       "4   Height       77.70\n",
       "5    Width       97.43"
      ]
     },
     "execution_count": 37,
     "metadata": {},
     "output_type": "execute_result"
    }
   ],
   "source": [
    "from statsmodels.stats.outliers_influence import variance_inflation_factor as vif\n",
    "\n",
    "vif_df = pd.DataFrame()\n",
    "vif_df[\"features\"] = X.columns\n",
    "vif_df[\"VIF Factor\"] = [vif(X.values, i) for i in range(X.shape[1])]\n",
    "vif_df.round(2)"
   ]
  },
  {
   "cell_type": "markdown",
   "id": "84067e50",
   "metadata": {},
   "source": [
    "Q3: Building a Regression Model & Regression Equation"
   ]
  },
  {
   "cell_type": "code",
   "execution_count": 38,
   "id": "e9d49b4d",
   "metadata": {},
   "outputs": [],
   "source": [
    "from sklearn.model_selection import train_test_split  \n",
    "\n",
    "#Split the data into test and train\n",
    "X_train,X_test,Y_train,Y_test=train_test_split(X,Y,test_size=0.2,random_state=10)"
   ]
  },
  {
   "cell_type": "code",
   "execution_count": 39,
   "id": "0be381b3",
   "metadata": {},
   "outputs": [
    {
     "name": "stdout",
     "output_type": "stream",
     "text": [
      "(124, 6)\n",
      "(124,)\n",
      "(32, 6)\n",
      "(32,)\n"
     ]
    }
   ],
   "source": [
    "print(X_train.shape)\n",
    "print(Y_train.shape)\n",
    "print(X_test.shape)\n",
    "print(Y_test.shape)"
   ]
  },
  {
   "cell_type": "code",
   "execution_count": 40,
   "id": "798436d7",
   "metadata": {},
   "outputs": [
    {
     "name": "stdout",
     "output_type": "stream",
     "text": [
      "2.4061422375608332\n",
      "[-0.14505873 -0.27280065  0.52155949 -0.18353126  0.0583889   0.2079525 ]\n"
     ]
    }
   ],
   "source": [
    "from sklearn.linear_model import LinearRegression\n",
    "#create a model object\n",
    "lm = LinearRegression()\n",
    "\n",
    "#train the model object\n",
    "lm.fit(X_train,Y_train)\n",
    "\n",
    "#print intercept and coefficients\n",
    "print(lm.intercept_)\n",
    "print(lm.coef_)"
   ]
  },
  {
   "cell_type": "code",
   "execution_count": 41,
   "id": "9c2989ad",
   "metadata": {},
   "outputs": [
    {
     "name": "stdout",
     "output_type": "stream",
     "text": [
      "[('Species', -0.1450587342945245), ('Length1', -0.27280065451117413), ('Length2', 0.5215594893978877), ('Length3', -0.18353125842379836), ('Height', 0.0583889023410373), ('Width', 0.20795250361500878)]\n"
     ]
    }
   ],
   "source": [
    "#pair the feature names with the coefficients\n",
    "print(list(zip(X.columns,lm.coef_)))"
   ]
  },
  {
   "cell_type": "code",
   "execution_count": 45,
   "id": "04f57d22",
   "metadata": {},
   "outputs": [
    {
     "name": "stdout",
     "output_type": "stream",
     "text": [
      "[4.31114549 6.07733667 4.65937748 4.58393318 5.34375034 6.98194284\n",
      " 4.86888952 2.62948878 6.89755678 4.7566921  3.83652421 4.82932114\n",
      " 4.593218   2.59952154 6.3550832  6.2614022  5.47381964 4.11023795\n",
      " 5.02654758 4.64999644 6.63587903 4.98338652 6.42943587 4.53670867\n",
      " 4.29939982 5.54011091 4.86171099 4.49931006 7.03286203 6.50990213\n",
      " 4.50968965 5.69900283]\n"
     ]
    }
   ],
   "source": [
    "#Y_test is always used for comparison not for testing\n",
    "\n",
    "#predict using the model\n",
    "Y_pred=lm.predict(X_test)\n",
    "print(Y_pred)"
   ]
  },
  {
   "cell_type": "code",
   "execution_count": 46,
   "id": "4f9f0e0b",
   "metadata": {},
   "outputs": [
    {
     "data": {
      "text/plain": [
       "0.8685532024925771"
      ]
     },
     "execution_count": 46,
     "metadata": {},
     "output_type": "execute_result"
    }
   ],
   "source": [
    "lm.score(X_train,Y_train)"
   ]
  },
  {
   "cell_type": "code",
   "execution_count": 47,
   "id": "810ef4c3",
   "metadata": {},
   "outputs": [
    {
     "data": {
      "text/html": [
       "<div>\n",
       "<style scoped>\n",
       "    .dataframe tbody tr th:only-of-type {\n",
       "        vertical-align: middle;\n",
       "    }\n",
       "\n",
       "    .dataframe tbody tr th {\n",
       "        vertical-align: top;\n",
       "    }\n",
       "\n",
       "    .dataframe thead th {\n",
       "        text-align: right;\n",
       "    }\n",
       "</style>\n",
       "<table border=\"1\" class=\"dataframe\">\n",
       "  <thead>\n",
       "    <tr style=\"text-align: right;\">\n",
       "      <th></th>\n",
       "      <th>Species</th>\n",
       "      <th>Length1</th>\n",
       "      <th>Length2</th>\n",
       "      <th>Length3</th>\n",
       "      <th>Height</th>\n",
       "      <th>Width</th>\n",
       "      <th>Actual weights</th>\n",
       "      <th>Predicted weights</th>\n",
       "    </tr>\n",
       "  </thead>\n",
       "  <tbody>\n",
       "    <tr>\n",
       "      <th>81</th>\n",
       "      <td>4</td>\n",
       "      <td>18.2</td>\n",
       "      <td>20.0</td>\n",
       "      <td>21.0</td>\n",
       "      <td>5.0820</td>\n",
       "      <td>2.7720</td>\n",
       "      <td>4.442651</td>\n",
       "      <td>4.311145</td>\n",
       "    </tr>\n",
       "    <tr>\n",
       "      <th>10</th>\n",
       "      <td>0</td>\n",
       "      <td>28.4</td>\n",
       "      <td>31.0</td>\n",
       "      <td>36.2</td>\n",
       "      <td>14.2628</td>\n",
       "      <td>5.1042</td>\n",
       "      <td>6.163315</td>\n",
       "      <td>6.077337</td>\n",
       "    </tr>\n",
       "    <tr>\n",
       "      <th>91</th>\n",
       "      <td>4</td>\n",
       "      <td>20.5</td>\n",
       "      <td>22.5</td>\n",
       "      <td>24.0</td>\n",
       "      <td>5.8560</td>\n",
       "      <td>3.6240</td>\n",
       "      <td>4.867534</td>\n",
       "      <td>4.659377</td>\n",
       "    </tr>\n",
       "    <tr>\n",
       "      <th>67</th>\n",
       "      <td>3</td>\n",
       "      <td>19.0</td>\n",
       "      <td>20.7</td>\n",
       "      <td>23.2</td>\n",
       "      <td>9.3960</td>\n",
       "      <td>3.4104</td>\n",
       "      <td>5.135798</td>\n",
       "      <td>4.583933</td>\n",
       "    </tr>\n",
       "    <tr>\n",
       "      <th>55</th>\n",
       "      <td>2</td>\n",
       "      <td>23.6</td>\n",
       "      <td>26.0</td>\n",
       "      <td>28.7</td>\n",
       "      <td>8.3804</td>\n",
       "      <td>4.2476</td>\n",
       "      <td>5.598422</td>\n",
       "      <td>5.343750</td>\n",
       "    </tr>\n",
       "    <tr>\n",
       "      <th>120</th>\n",
       "      <td>4</td>\n",
       "      <td>37.0</td>\n",
       "      <td>40.0</td>\n",
       "      <td>42.5</td>\n",
       "      <td>11.7300</td>\n",
       "      <td>7.2250</td>\n",
       "      <td>6.802395</td>\n",
       "      <td>6.981943</td>\n",
       "    </tr>\n",
       "    <tr>\n",
       "      <th>99</th>\n",
       "      <td>4</td>\n",
       "      <td>23.0</td>\n",
       "      <td>25.0</td>\n",
       "      <td>26.5</td>\n",
       "      <td>6.4395</td>\n",
       "      <td>3.6835</td>\n",
       "      <td>5.192957</td>\n",
       "      <td>4.868890</td>\n",
       "    </tr>\n",
       "    <tr>\n",
       "      <th>153</th>\n",
       "      <td>6</td>\n",
       "      <td>11.4</td>\n",
       "      <td>12.0</td>\n",
       "      <td>13.2</td>\n",
       "      <td>2.2044</td>\n",
       "      <td>1.1484</td>\n",
       "      <td>2.282382</td>\n",
       "      <td>2.629489</td>\n",
       "    </tr>\n",
       "    <tr>\n",
       "      <th>60</th>\n",
       "      <td>2</td>\n",
       "      <td>37.3</td>\n",
       "      <td>40.0</td>\n",
       "      <td>43.5</td>\n",
       "      <td>12.3540</td>\n",
       "      <td>6.5250</td>\n",
       "      <td>6.907755</td>\n",
       "      <td>6.897557</td>\n",
       "    </tr>\n",
       "    <tr>\n",
       "      <th>43</th>\n",
       "      <td>1</td>\n",
       "      <td>20.4</td>\n",
       "      <td>22.0</td>\n",
       "      <td>24.7</td>\n",
       "      <td>5.8045</td>\n",
       "      <td>3.7544</td>\n",
       "      <td>5.010635</td>\n",
       "      <td>4.756692</td>\n",
       "    </tr>\n",
       "    <tr>\n",
       "      <th>35</th>\n",
       "      <td>1</td>\n",
       "      <td>12.9</td>\n",
       "      <td>14.1</td>\n",
       "      <td>16.2</td>\n",
       "      <td>4.1472</td>\n",
       "      <td>2.2680</td>\n",
       "      <td>3.688879</td>\n",
       "      <td>3.836524</td>\n",
       "    </tr>\n",
       "    <tr>\n",
       "      <th>97</th>\n",
       "      <td>4</td>\n",
       "      <td>22.0</td>\n",
       "      <td>24.0</td>\n",
       "      <td>25.5</td>\n",
       "      <td>6.3750</td>\n",
       "      <td>3.8250</td>\n",
       "      <td>4.976734</td>\n",
       "      <td>4.829321</td>\n",
       "    </tr>\n",
       "    <tr>\n",
       "      <th>85</th>\n",
       "      <td>4</td>\n",
       "      <td>19.3</td>\n",
       "      <td>21.3</td>\n",
       "      <td>22.8</td>\n",
       "      <td>6.3840</td>\n",
       "      <td>3.5340</td>\n",
       "      <td>4.867534</td>\n",
       "      <td>4.593218</td>\n",
       "    </tr>\n",
       "    <tr>\n",
       "      <th>151</th>\n",
       "      <td>6</td>\n",
       "      <td>11.3</td>\n",
       "      <td>11.8</td>\n",
       "      <td>13.1</td>\n",
       "      <td>2.2139</td>\n",
       "      <td>1.2838</td>\n",
       "      <td>2.302585</td>\n",
       "      <td>2.599522</td>\n",
       "    </tr>\n",
       "    <tr>\n",
       "      <th>19</th>\n",
       "      <td>0</td>\n",
       "      <td>31.0</td>\n",
       "      <td>33.5</td>\n",
       "      <td>38.7</td>\n",
       "      <td>14.4738</td>\n",
       "      <td>5.7276</td>\n",
       "      <td>6.476972</td>\n",
       "      <td>6.355083</td>\n",
       "    </tr>\n",
       "    <tr>\n",
       "      <th>58</th>\n",
       "      <td>2</td>\n",
       "      <td>28.5</td>\n",
       "      <td>31.0</td>\n",
       "      <td>34.0</td>\n",
       "      <td>10.7440</td>\n",
       "      <td>6.5620</td>\n",
       "      <td>6.291569</td>\n",
       "      <td>6.261402</td>\n",
       "    </tr>\n",
       "    <tr>\n",
       "      <th>1</th>\n",
       "      <td>0</td>\n",
       "      <td>24.0</td>\n",
       "      <td>26.3</td>\n",
       "      <td>31.2</td>\n",
       "      <td>12.4800</td>\n",
       "      <td>4.3056</td>\n",
       "      <td>5.669881</td>\n",
       "      <td>5.473820</td>\n",
       "    </tr>\n",
       "    <tr>\n",
       "      <th>63</th>\n",
       "      <td>3</td>\n",
       "      <td>16.3</td>\n",
       "      <td>17.7</td>\n",
       "      <td>19.8</td>\n",
       "      <td>7.4052</td>\n",
       "      <td>2.6730</td>\n",
       "      <td>4.499810</td>\n",
       "      <td>4.110238</td>\n",
       "    </tr>\n",
       "    <tr>\n",
       "      <th>129</th>\n",
       "      <td>5</td>\n",
       "      <td>31.7</td>\n",
       "      <td>34.0</td>\n",
       "      <td>37.8</td>\n",
       "      <td>5.7078</td>\n",
       "      <td>4.1580</td>\n",
       "      <td>5.703782</td>\n",
       "      <td>5.026548</td>\n",
       "    </tr>\n",
       "    <tr>\n",
       "      <th>39</th>\n",
       "      <td>1</td>\n",
       "      <td>18.6</td>\n",
       "      <td>20.0</td>\n",
       "      <td>22.2</td>\n",
       "      <td>6.2160</td>\n",
       "      <td>3.5742</td>\n",
       "      <td>4.787492</td>\n",
       "      <td>4.649996</td>\n",
       "    </tr>\n",
       "    <tr>\n",
       "      <th>24</th>\n",
       "      <td>0</td>\n",
       "      <td>31.9</td>\n",
       "      <td>35.0</td>\n",
       "      <td>40.5</td>\n",
       "      <td>16.2405</td>\n",
       "      <td>5.5890</td>\n",
       "      <td>6.551080</td>\n",
       "      <td>6.635879</td>\n",
       "    </tr>\n",
       "    <tr>\n",
       "      <th>128</th>\n",
       "      <td>5</td>\n",
       "      <td>30.0</td>\n",
       "      <td>32.3</td>\n",
       "      <td>34.8</td>\n",
       "      <td>5.5680</td>\n",
       "      <td>3.3756</td>\n",
       "      <td>5.298317</td>\n",
       "      <td>4.983387</td>\n",
       "    </tr>\n",
       "    <tr>\n",
       "      <th>21</th>\n",
       "      <td>0</td>\n",
       "      <td>31.4</td>\n",
       "      <td>34.0</td>\n",
       "      <td>39.2</td>\n",
       "      <td>15.9936</td>\n",
       "      <td>5.3704</td>\n",
       "      <td>6.529419</td>\n",
       "      <td>6.429436</td>\n",
       "    </tr>\n",
       "    <tr>\n",
       "      <th>38</th>\n",
       "      <td>1</td>\n",
       "      <td>18.2</td>\n",
       "      <td>19.8</td>\n",
       "      <td>22.2</td>\n",
       "      <td>5.6166</td>\n",
       "      <td>3.1746</td>\n",
       "      <td>4.465908</td>\n",
       "      <td>4.536709</td>\n",
       "    </tr>\n",
       "    <tr>\n",
       "      <th>79</th>\n",
       "      <td>4</td>\n",
       "      <td>17.2</td>\n",
       "      <td>19.0</td>\n",
       "      <td>20.2</td>\n",
       "      <td>5.6358</td>\n",
       "      <td>3.0502</td>\n",
       "      <td>4.382027</td>\n",
       "      <td>4.299400</td>\n",
       "    </tr>\n",
       "    <tr>\n",
       "      <th>131</th>\n",
       "      <td>5</td>\n",
       "      <td>34.8</td>\n",
       "      <td>37.3</td>\n",
       "      <td>39.8</td>\n",
       "      <td>6.2884</td>\n",
       "      <td>4.0198</td>\n",
       "      <td>5.703782</td>\n",
       "      <td>5.540111</td>\n",
       "    </tr>\n",
       "    <tr>\n",
       "      <th>96</th>\n",
       "      <td>4</td>\n",
       "      <td>22.0</td>\n",
       "      <td>24.0</td>\n",
       "      <td>25.5</td>\n",
       "      <td>7.2930</td>\n",
       "      <td>3.7230</td>\n",
       "      <td>5.416100</td>\n",
       "      <td>4.861711</td>\n",
       "    </tr>\n",
       "    <tr>\n",
       "      <th>83</th>\n",
       "      <td>4</td>\n",
       "      <td>19.0</td>\n",
       "      <td>21.0</td>\n",
       "      <td>22.5</td>\n",
       "      <td>5.9175</td>\n",
       "      <td>3.3075</td>\n",
       "      <td>4.744932</td>\n",
       "      <td>4.499310</td>\n",
       "    </tr>\n",
       "    <tr>\n",
       "      <th>119</th>\n",
       "      <td>4</td>\n",
       "      <td>36.9</td>\n",
       "      <td>40.0</td>\n",
       "      <td>42.3</td>\n",
       "      <td>11.9286</td>\n",
       "      <td>7.1064</td>\n",
       "      <td>6.745236</td>\n",
       "      <td>7.032862</td>\n",
       "    </tr>\n",
       "    <tr>\n",
       "      <th>117</th>\n",
       "      <td>4</td>\n",
       "      <td>36.5</td>\n",
       "      <td>39.0</td>\n",
       "      <td>41.4</td>\n",
       "      <td>11.1366</td>\n",
       "      <td>6.0030</td>\n",
       "      <td>6.476972</td>\n",
       "      <td>6.509902</td>\n",
       "    </tr>\n",
       "    <tr>\n",
       "      <th>66</th>\n",
       "      <td>3</td>\n",
       "      <td>19.0</td>\n",
       "      <td>20.7</td>\n",
       "      <td>23.2</td>\n",
       "      <td>8.5376</td>\n",
       "      <td>3.2944</td>\n",
       "      <td>4.941642</td>\n",
       "      <td>4.509690</td>\n",
       "    </tr>\n",
       "    <tr>\n",
       "      <th>2</th>\n",
       "      <td>0</td>\n",
       "      <td>23.9</td>\n",
       "      <td>26.5</td>\n",
       "      <td>31.1</td>\n",
       "      <td>12.3778</td>\n",
       "      <td>4.6961</td>\n",
       "      <td>5.828946</td>\n",
       "      <td>5.699003</td>\n",
       "    </tr>\n",
       "  </tbody>\n",
       "</table>\n",
       "</div>"
      ],
      "text/plain": [
       "     Species  Length1  Length2  Length3   Height   Width  Actual weights  \\\n",
       "81         4     18.2     20.0     21.0   5.0820  2.7720        4.442651   \n",
       "10         0     28.4     31.0     36.2  14.2628  5.1042        6.163315   \n",
       "91         4     20.5     22.5     24.0   5.8560  3.6240        4.867534   \n",
       "67         3     19.0     20.7     23.2   9.3960  3.4104        5.135798   \n",
       "55         2     23.6     26.0     28.7   8.3804  4.2476        5.598422   \n",
       "120        4     37.0     40.0     42.5  11.7300  7.2250        6.802395   \n",
       "99         4     23.0     25.0     26.5   6.4395  3.6835        5.192957   \n",
       "153        6     11.4     12.0     13.2   2.2044  1.1484        2.282382   \n",
       "60         2     37.3     40.0     43.5  12.3540  6.5250        6.907755   \n",
       "43         1     20.4     22.0     24.7   5.8045  3.7544        5.010635   \n",
       "35         1     12.9     14.1     16.2   4.1472  2.2680        3.688879   \n",
       "97         4     22.0     24.0     25.5   6.3750  3.8250        4.976734   \n",
       "85         4     19.3     21.3     22.8   6.3840  3.5340        4.867534   \n",
       "151        6     11.3     11.8     13.1   2.2139  1.2838        2.302585   \n",
       "19         0     31.0     33.5     38.7  14.4738  5.7276        6.476972   \n",
       "58         2     28.5     31.0     34.0  10.7440  6.5620        6.291569   \n",
       "1          0     24.0     26.3     31.2  12.4800  4.3056        5.669881   \n",
       "63         3     16.3     17.7     19.8   7.4052  2.6730        4.499810   \n",
       "129        5     31.7     34.0     37.8   5.7078  4.1580        5.703782   \n",
       "39         1     18.6     20.0     22.2   6.2160  3.5742        4.787492   \n",
       "24         0     31.9     35.0     40.5  16.2405  5.5890        6.551080   \n",
       "128        5     30.0     32.3     34.8   5.5680  3.3756        5.298317   \n",
       "21         0     31.4     34.0     39.2  15.9936  5.3704        6.529419   \n",
       "38         1     18.2     19.8     22.2   5.6166  3.1746        4.465908   \n",
       "79         4     17.2     19.0     20.2   5.6358  3.0502        4.382027   \n",
       "131        5     34.8     37.3     39.8   6.2884  4.0198        5.703782   \n",
       "96         4     22.0     24.0     25.5   7.2930  3.7230        5.416100   \n",
       "83         4     19.0     21.0     22.5   5.9175  3.3075        4.744932   \n",
       "119        4     36.9     40.0     42.3  11.9286  7.1064        6.745236   \n",
       "117        4     36.5     39.0     41.4  11.1366  6.0030        6.476972   \n",
       "66         3     19.0     20.7     23.2   8.5376  3.2944        4.941642   \n",
       "2          0     23.9     26.5     31.1  12.3778  4.6961        5.828946   \n",
       "\n",
       "     Predicted weights  \n",
       "81            4.311145  \n",
       "10            6.077337  \n",
       "91            4.659377  \n",
       "67            4.583933  \n",
       "55            5.343750  \n",
       "120           6.981943  \n",
       "99            4.868890  \n",
       "153           2.629489  \n",
       "60            6.897557  \n",
       "43            4.756692  \n",
       "35            3.836524  \n",
       "97            4.829321  \n",
       "85            4.593218  \n",
       "151           2.599522  \n",
       "19            6.355083  \n",
       "58            6.261402  \n",
       "1             5.473820  \n",
       "63            4.110238  \n",
       "129           5.026548  \n",
       "39            4.649996  \n",
       "24            6.635879  \n",
       "128           4.983387  \n",
       "21            6.429436  \n",
       "38            4.536709  \n",
       "79            4.299400  \n",
       "131           5.540111  \n",
       "96            4.861711  \n",
       "83            4.499310  \n",
       "119           7.032862  \n",
       "117           6.509902  \n",
       "66            4.509690  \n",
       "2             5.699003  "
      ]
     },
     "execution_count": 47,
     "metadata": {},
     "output_type": "execute_result"
    }
   ],
   "source": [
    "new_df=pd.DataFrame()\n",
    "new_df=X_test\n",
    "\n",
    "new_df[\"Actual weights\"]=Y_test\n",
    "new_df[\"Predicted weights\"]=Y_pred\n",
    "new_df"
   ]
  },
  {
   "cell_type": "code",
   "execution_count": 48,
   "id": "9f1fb622",
   "metadata": {},
   "outputs": [
    {
     "name": "stdout",
     "output_type": "stream",
     "text": [
      "R-squared: 0.9388455858643263\n",
      "RMSE: 0.2772741765641081\n",
      "Adj R-square: 0.936382992006514\n"
     ]
    }
   ],
   "source": [
    "from sklearn.metrics import r2_score,mean_squared_error\n",
    "import numpy as np\n",
    "\n",
    "r2=r2_score(Y_test,Y_pred)\n",
    "print(\"R-squared:\",r2)\n",
    "\n",
    "rmse=np.sqrt(mean_squared_error(Y_test,Y_pred))\n",
    "print(\"RMSE:\",rmse)\n",
    "\n",
    "adjusted_r_squared = 1 - (1-r2)*(len(Y)-1)/(len(Y)-X.shape[1]-1)\n",
    "print(\"Adj R-square:\",adjusted_r_squared)"
   ]
  },
  {
   "cell_type": "code",
   "execution_count": 49,
   "id": "2db2bc53",
   "metadata": {},
   "outputs": [
    {
     "name": "stdout",
     "output_type": "stream",
     "text": [
      "2.2823823856765264\n",
      "6.907755278982137\n"
     ]
    }
   ],
   "source": [
    "print(Y_test.min())\n",
    "print(Y_test.max())"
   ]
  },
  {
   "cell_type": "code",
   "execution_count": 50,
   "id": "cdf36c54",
   "metadata": {},
   "outputs": [
    {
     "data": {
      "text/html": [
       "<div>\n",
       "<style scoped>\n",
       "    .dataframe tbody tr th:only-of-type {\n",
       "        vertical-align: middle;\n",
       "    }\n",
       "\n",
       "    .dataframe tbody tr th {\n",
       "        vertical-align: top;\n",
       "    }\n",
       "\n",
       "    .dataframe thead th {\n",
       "        text-align: right;\n",
       "    }\n",
       "</style>\n",
       "<table border=\"1\" class=\"dataframe\">\n",
       "  <thead>\n",
       "    <tr style=\"text-align: right;\">\n",
       "      <th></th>\n",
       "      <th>Species</th>\n",
       "      <th>Length1</th>\n",
       "      <th>Length2</th>\n",
       "      <th>Length3</th>\n",
       "      <th>Height</th>\n",
       "      <th>Width</th>\n",
       "      <th>Actual weights</th>\n",
       "      <th>Predicted weights</th>\n",
       "      <th>Deviation</th>\n",
       "    </tr>\n",
       "  </thead>\n",
       "  <tbody>\n",
       "    <tr>\n",
       "      <th>81</th>\n",
       "      <td>4</td>\n",
       "      <td>18.2</td>\n",
       "      <td>20.0</td>\n",
       "      <td>21.0</td>\n",
       "      <td>5.0820</td>\n",
       "      <td>2.7720</td>\n",
       "      <td>4.442651</td>\n",
       "      <td>4.311145</td>\n",
       "      <td>0.131506</td>\n",
       "    </tr>\n",
       "    <tr>\n",
       "      <th>10</th>\n",
       "      <td>0</td>\n",
       "      <td>28.4</td>\n",
       "      <td>31.0</td>\n",
       "      <td>36.2</td>\n",
       "      <td>14.2628</td>\n",
       "      <td>5.1042</td>\n",
       "      <td>6.163315</td>\n",
       "      <td>6.077337</td>\n",
       "      <td>0.085978</td>\n",
       "    </tr>\n",
       "    <tr>\n",
       "      <th>91</th>\n",
       "      <td>4</td>\n",
       "      <td>20.5</td>\n",
       "      <td>22.5</td>\n",
       "      <td>24.0</td>\n",
       "      <td>5.8560</td>\n",
       "      <td>3.6240</td>\n",
       "      <td>4.867534</td>\n",
       "      <td>4.659377</td>\n",
       "      <td>0.208157</td>\n",
       "    </tr>\n",
       "    <tr>\n",
       "      <th>67</th>\n",
       "      <td>3</td>\n",
       "      <td>19.0</td>\n",
       "      <td>20.7</td>\n",
       "      <td>23.2</td>\n",
       "      <td>9.3960</td>\n",
       "      <td>3.4104</td>\n",
       "      <td>5.135798</td>\n",
       "      <td>4.583933</td>\n",
       "      <td>0.551865</td>\n",
       "    </tr>\n",
       "    <tr>\n",
       "      <th>55</th>\n",
       "      <td>2</td>\n",
       "      <td>23.6</td>\n",
       "      <td>26.0</td>\n",
       "      <td>28.7</td>\n",
       "      <td>8.3804</td>\n",
       "      <td>4.2476</td>\n",
       "      <td>5.598422</td>\n",
       "      <td>5.343750</td>\n",
       "      <td>0.254672</td>\n",
       "    </tr>\n",
       "  </tbody>\n",
       "</table>\n",
       "</div>"
      ],
      "text/plain": [
       "    Species  Length1  Length2  Length3   Height   Width  Actual weights  \\\n",
       "81        4     18.2     20.0     21.0   5.0820  2.7720        4.442651   \n",
       "10        0     28.4     31.0     36.2  14.2628  5.1042        6.163315   \n",
       "91        4     20.5     22.5     24.0   5.8560  3.6240        4.867534   \n",
       "67        3     19.0     20.7     23.2   9.3960  3.4104        5.135798   \n",
       "55        2     23.6     26.0     28.7   8.3804  4.2476        5.598422   \n",
       "\n",
       "    Predicted weights  Deviation  \n",
       "81           4.311145   0.131506  \n",
       "10           6.077337   0.085978  \n",
       "91           4.659377   0.208157  \n",
       "67           4.583933   0.551865  \n",
       "55           5.343750   0.254672  "
      ]
     },
     "execution_count": 50,
     "metadata": {},
     "output_type": "execute_result"
    }
   ],
   "source": [
    "new_df[\"Deviation\"]=new_df[\"Actual weights\"]-new_df[\"Predicted weights\"]\n",
    "new_df.to_excel(\"Weights Prediction.xlsx\",header=True,index=True)\n",
    "new_df.head()"
   ]
  },
  {
   "cell_type": "markdown",
   "id": "51391656",
   "metadata": {},
   "source": [
    "Q4: Mean score of the model at 95% confidence interval"
   ]
  },
  {
   "cell_type": "code",
   "execution_count": 51,
   "id": "6b42857b",
   "metadata": {},
   "outputs": [
    {
     "name": "stdout",
     "output_type": "stream",
     "text": [
      "0.07688096898930419\n"
     ]
    }
   ],
   "source": [
    "from sklearn.metrics import mean_squared_error\n",
    "\n",
    "mse=mean_squared_error(Y_test,Y_pred)\n",
    "print(mse)"
   ]
  },
  {
   "cell_type": "markdown",
   "id": "ca44dd05",
   "metadata": {},
   "source": [
    "Q5: Comparing real and predicted weights"
   ]
  },
  {
   "cell_type": "code",
   "execution_count": 52,
   "id": "91e65358",
   "metadata": {},
   "outputs": [
    {
     "name": "stdout",
     "output_type": "stream",
     "text": [
      "     Actual weights\n",
      "81         4.442651\n",
      "10         6.163315\n",
      "91         4.867534\n",
      "67         5.135798\n",
      "55         5.598422\n",
      "120        6.802395\n",
      "99         5.192957\n",
      "153        2.282382\n",
      "60         6.907755\n",
      "43         5.010635\n",
      "35         3.688879\n",
      "97         4.976734\n",
      "85         4.867534\n",
      "151        2.302585\n",
      "19         6.476972\n",
      "58         6.291569\n",
      "1          5.669881\n",
      "63         4.499810\n",
      "129        5.703782\n",
      "39         4.787492\n",
      "24         6.551080\n",
      "128        5.298317\n",
      "21         6.529419\n",
      "38         4.465908\n",
      "79         4.382027\n",
      "131        5.703782\n",
      "96         5.416100\n",
      "83         4.744932\n",
      "119        6.745236\n",
      "117        6.476972\n",
      "66         4.941642\n",
      "2          5.828946\n"
     ]
    }
   ],
   "source": [
    "real_w = pd.DataFrame(new_df,columns=[\"Actual weights\"])\n",
    "print(real_w)"
   ]
  },
  {
   "cell_type": "code",
   "execution_count": 53,
   "id": "34a123e0",
   "metadata": {},
   "outputs": [
    {
     "name": "stdout",
     "output_type": "stream",
     "text": [
      "     Predicted weights\n",
      "81            4.311145\n",
      "10            6.077337\n",
      "91            4.659377\n",
      "67            4.583933\n",
      "55            5.343750\n",
      "120           6.981943\n",
      "99            4.868890\n",
      "153           2.629489\n",
      "60            6.897557\n",
      "43            4.756692\n",
      "35            3.836524\n",
      "97            4.829321\n",
      "85            4.593218\n",
      "151           2.599522\n",
      "19            6.355083\n",
      "58            6.261402\n",
      "1             5.473820\n",
      "63            4.110238\n",
      "129           5.026548\n",
      "39            4.649996\n",
      "24            6.635879\n",
      "128           4.983387\n",
      "21            6.429436\n",
      "38            4.536709\n",
      "79            4.299400\n",
      "131           5.540111\n",
      "96            4.861711\n",
      "83            4.499310\n",
      "119           7.032862\n",
      "117           6.509902\n",
      "66            4.509690\n",
      "2             5.699003\n"
     ]
    }
   ],
   "source": [
    "pred_w = pd.DataFrame(new_df,columns=[\"Predicted weights\"])\n",
    "print(pred_w)"
   ]
  },
  {
   "cell_type": "code",
   "execution_count": 54,
   "id": "ed5de164",
   "metadata": {},
   "outputs": [
    {
     "name": "stdout",
     "output_type": "stream",
     "text": [
      "     Deviation\n",
      "81    0.131506\n",
      "10    0.085978\n",
      "91    0.208157\n",
      "67    0.551865\n",
      "55    0.254672\n",
      "120  -0.179548\n",
      "99    0.324067\n",
      "153  -0.347106\n",
      "60    0.010199\n",
      "43    0.253943\n",
      "35   -0.147645\n",
      "97    0.147413\n",
      "85    0.274316\n",
      "151  -0.296936\n",
      "19    0.121889\n",
      "58    0.030167\n",
      "1     0.196061\n",
      "63    0.389572\n",
      "129   0.677235\n",
      "39    0.137495\n",
      "24   -0.084799\n",
      "128   0.314931\n",
      "21    0.099983\n",
      "38   -0.070801\n",
      "79    0.082627\n",
      "131   0.163672\n",
      "96    0.554389\n",
      "83    0.245622\n",
      "119  -0.287626\n",
      "117  -0.032930\n",
      "66    0.431953\n",
      "2     0.129943\n"
     ]
    }
   ],
   "source": [
    "devia_w = pd.DataFrame(new_df,columns=[\"Deviation\"])\n",
    "print(devia_w)"
   ]
  },
  {
   "cell_type": "code",
   "execution_count": 55,
   "id": "fde15409",
   "metadata": {},
   "outputs": [
    {
     "data": {
      "text/html": [
       "<div>\n",
       "<style scoped>\n",
       "    .dataframe tbody tr th:only-of-type {\n",
       "        vertical-align: middle;\n",
       "    }\n",
       "\n",
       "    .dataframe tbody tr th {\n",
       "        vertical-align: top;\n",
       "    }\n",
       "\n",
       "    .dataframe thead th {\n",
       "        text-align: right;\n",
       "    }\n",
       "</style>\n",
       "<table border=\"1\" class=\"dataframe\">\n",
       "  <thead>\n",
       "    <tr style=\"text-align: right;\">\n",
       "      <th></th>\n",
       "      <th>Actual weights</th>\n",
       "      <th>Predicted weights</th>\n",
       "      <th>Deviation</th>\n",
       "    </tr>\n",
       "  </thead>\n",
       "  <tbody>\n",
       "    <tr>\n",
       "      <th>81</th>\n",
       "      <td>4.442651</td>\n",
       "      <td>4.311145</td>\n",
       "      <td>0.131506</td>\n",
       "    </tr>\n",
       "    <tr>\n",
       "      <th>10</th>\n",
       "      <td>6.163315</td>\n",
       "      <td>6.077337</td>\n",
       "      <td>0.085978</td>\n",
       "    </tr>\n",
       "    <tr>\n",
       "      <th>91</th>\n",
       "      <td>4.867534</td>\n",
       "      <td>4.659377</td>\n",
       "      <td>0.208157</td>\n",
       "    </tr>\n",
       "    <tr>\n",
       "      <th>67</th>\n",
       "      <td>5.135798</td>\n",
       "      <td>4.583933</td>\n",
       "      <td>0.551865</td>\n",
       "    </tr>\n",
       "    <tr>\n",
       "      <th>55</th>\n",
       "      <td>5.598422</td>\n",
       "      <td>5.343750</td>\n",
       "      <td>0.254672</td>\n",
       "    </tr>\n",
       "    <tr>\n",
       "      <th>120</th>\n",
       "      <td>6.802395</td>\n",
       "      <td>6.981943</td>\n",
       "      <td>-0.179548</td>\n",
       "    </tr>\n",
       "    <tr>\n",
       "      <th>99</th>\n",
       "      <td>5.192957</td>\n",
       "      <td>4.868890</td>\n",
       "      <td>0.324067</td>\n",
       "    </tr>\n",
       "    <tr>\n",
       "      <th>153</th>\n",
       "      <td>2.282382</td>\n",
       "      <td>2.629489</td>\n",
       "      <td>-0.347106</td>\n",
       "    </tr>\n",
       "    <tr>\n",
       "      <th>60</th>\n",
       "      <td>6.907755</td>\n",
       "      <td>6.897557</td>\n",
       "      <td>0.010199</td>\n",
       "    </tr>\n",
       "    <tr>\n",
       "      <th>43</th>\n",
       "      <td>5.010635</td>\n",
       "      <td>4.756692</td>\n",
       "      <td>0.253943</td>\n",
       "    </tr>\n",
       "    <tr>\n",
       "      <th>35</th>\n",
       "      <td>3.688879</td>\n",
       "      <td>3.836524</td>\n",
       "      <td>-0.147645</td>\n",
       "    </tr>\n",
       "    <tr>\n",
       "      <th>97</th>\n",
       "      <td>4.976734</td>\n",
       "      <td>4.829321</td>\n",
       "      <td>0.147413</td>\n",
       "    </tr>\n",
       "    <tr>\n",
       "      <th>85</th>\n",
       "      <td>4.867534</td>\n",
       "      <td>4.593218</td>\n",
       "      <td>0.274316</td>\n",
       "    </tr>\n",
       "    <tr>\n",
       "      <th>151</th>\n",
       "      <td>2.302585</td>\n",
       "      <td>2.599522</td>\n",
       "      <td>-0.296936</td>\n",
       "    </tr>\n",
       "    <tr>\n",
       "      <th>19</th>\n",
       "      <td>6.476972</td>\n",
       "      <td>6.355083</td>\n",
       "      <td>0.121889</td>\n",
       "    </tr>\n",
       "    <tr>\n",
       "      <th>58</th>\n",
       "      <td>6.291569</td>\n",
       "      <td>6.261402</td>\n",
       "      <td>0.030167</td>\n",
       "    </tr>\n",
       "    <tr>\n",
       "      <th>1</th>\n",
       "      <td>5.669881</td>\n",
       "      <td>5.473820</td>\n",
       "      <td>0.196061</td>\n",
       "    </tr>\n",
       "    <tr>\n",
       "      <th>63</th>\n",
       "      <td>4.499810</td>\n",
       "      <td>4.110238</td>\n",
       "      <td>0.389572</td>\n",
       "    </tr>\n",
       "    <tr>\n",
       "      <th>129</th>\n",
       "      <td>5.703782</td>\n",
       "      <td>5.026548</td>\n",
       "      <td>0.677235</td>\n",
       "    </tr>\n",
       "    <tr>\n",
       "      <th>39</th>\n",
       "      <td>4.787492</td>\n",
       "      <td>4.649996</td>\n",
       "      <td>0.137495</td>\n",
       "    </tr>\n",
       "    <tr>\n",
       "      <th>24</th>\n",
       "      <td>6.551080</td>\n",
       "      <td>6.635879</td>\n",
       "      <td>-0.084799</td>\n",
       "    </tr>\n",
       "    <tr>\n",
       "      <th>128</th>\n",
       "      <td>5.298317</td>\n",
       "      <td>4.983387</td>\n",
       "      <td>0.314931</td>\n",
       "    </tr>\n",
       "    <tr>\n",
       "      <th>21</th>\n",
       "      <td>6.529419</td>\n",
       "      <td>6.429436</td>\n",
       "      <td>0.099983</td>\n",
       "    </tr>\n",
       "    <tr>\n",
       "      <th>38</th>\n",
       "      <td>4.465908</td>\n",
       "      <td>4.536709</td>\n",
       "      <td>-0.070801</td>\n",
       "    </tr>\n",
       "    <tr>\n",
       "      <th>79</th>\n",
       "      <td>4.382027</td>\n",
       "      <td>4.299400</td>\n",
       "      <td>0.082627</td>\n",
       "    </tr>\n",
       "    <tr>\n",
       "      <th>131</th>\n",
       "      <td>5.703782</td>\n",
       "      <td>5.540111</td>\n",
       "      <td>0.163672</td>\n",
       "    </tr>\n",
       "    <tr>\n",
       "      <th>96</th>\n",
       "      <td>5.416100</td>\n",
       "      <td>4.861711</td>\n",
       "      <td>0.554389</td>\n",
       "    </tr>\n",
       "    <tr>\n",
       "      <th>83</th>\n",
       "      <td>4.744932</td>\n",
       "      <td>4.499310</td>\n",
       "      <td>0.245622</td>\n",
       "    </tr>\n",
       "    <tr>\n",
       "      <th>119</th>\n",
       "      <td>6.745236</td>\n",
       "      <td>7.032862</td>\n",
       "      <td>-0.287626</td>\n",
       "    </tr>\n",
       "    <tr>\n",
       "      <th>117</th>\n",
       "      <td>6.476972</td>\n",
       "      <td>6.509902</td>\n",
       "      <td>-0.032930</td>\n",
       "    </tr>\n",
       "    <tr>\n",
       "      <th>66</th>\n",
       "      <td>4.941642</td>\n",
       "      <td>4.509690</td>\n",
       "      <td>0.431953</td>\n",
       "    </tr>\n",
       "    <tr>\n",
       "      <th>2</th>\n",
       "      <td>5.828946</td>\n",
       "      <td>5.699003</td>\n",
       "      <td>0.129943</td>\n",
       "    </tr>\n",
       "  </tbody>\n",
       "</table>\n",
       "</div>"
      ],
      "text/plain": [
       "     Actual weights  Predicted weights  Deviation\n",
       "81         4.442651           4.311145   0.131506\n",
       "10         6.163315           6.077337   0.085978\n",
       "91         4.867534           4.659377   0.208157\n",
       "67         5.135798           4.583933   0.551865\n",
       "55         5.598422           5.343750   0.254672\n",
       "120        6.802395           6.981943  -0.179548\n",
       "99         5.192957           4.868890   0.324067\n",
       "153        2.282382           2.629489  -0.347106\n",
       "60         6.907755           6.897557   0.010199\n",
       "43         5.010635           4.756692   0.253943\n",
       "35         3.688879           3.836524  -0.147645\n",
       "97         4.976734           4.829321   0.147413\n",
       "85         4.867534           4.593218   0.274316\n",
       "151        2.302585           2.599522  -0.296936\n",
       "19         6.476972           6.355083   0.121889\n",
       "58         6.291569           6.261402   0.030167\n",
       "1          5.669881           5.473820   0.196061\n",
       "63         4.499810           4.110238   0.389572\n",
       "129        5.703782           5.026548   0.677235\n",
       "39         4.787492           4.649996   0.137495\n",
       "24         6.551080           6.635879  -0.084799\n",
       "128        5.298317           4.983387   0.314931\n",
       "21         6.529419           6.429436   0.099983\n",
       "38         4.465908           4.536709  -0.070801\n",
       "79         4.382027           4.299400   0.082627\n",
       "131        5.703782           5.540111   0.163672\n",
       "96         5.416100           4.861711   0.554389\n",
       "83         4.744932           4.499310   0.245622\n",
       "119        6.745236           7.032862  -0.287626\n",
       "117        6.476972           6.509902  -0.032930\n",
       "66         4.941642           4.509690   0.431953\n",
       "2          5.828946           5.699003   0.129943"
      ]
     },
     "execution_count": 55,
     "metadata": {},
     "output_type": "execute_result"
    }
   ],
   "source": [
    "Y_compare = pd.concat([real_w,pred_w,devia_w], axis=1)\n",
    "Y_compare"
   ]
  },
  {
   "cell_type": "markdown",
   "id": "4de0d8fc",
   "metadata": {},
   "source": [
    "When the value of weights is large the deviation of actual & predicted weights is somewhat in a range. But when the values of weights is small then the deviation of actual & predicted weights is showing errors as some values are in neagtive range & some are out of range"
   ]
  },
  {
   "cell_type": "code",
   "execution_count": null,
   "id": "51abc0b5",
   "metadata": {},
   "outputs": [],
   "source": []
  }
 ],
 "metadata": {
  "kernelspec": {
   "display_name": "Python 3 (ipykernel)",
   "language": "python",
   "name": "python3"
  },
  "language_info": {
   "codemirror_mode": {
    "name": "ipython",
    "version": 3
   },
   "file_extension": ".py",
   "mimetype": "text/x-python",
   "name": "python",
   "nbconvert_exporter": "python",
   "pygments_lexer": "ipython3",
   "version": "3.9.7"
  }
 },
 "nbformat": 4,
 "nbformat_minor": 5
}
